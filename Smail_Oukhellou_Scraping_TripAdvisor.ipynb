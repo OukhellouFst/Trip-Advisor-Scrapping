{
 "cells": [
  {
   "cell_type": "markdown",
   "id": "67aa4a7b",
   "metadata": {},
   "source": [
    "# 1. Import libraries"
   ]
  },
  {
   "cell_type": "code",
   "execution_count": null,
   "id": "1e4065ce",
   "metadata": {},
   "outputs": [],
   "source": [
    "import requests \n",
    "from bs4 import BeautifulSoup as soup"
   ]
  },
  {
   "cell_type": "code",
   "execution_count": null,
   "id": "eb3f444a",
   "metadata": {},
   "outputs": [],
   "source": [
    "# Preventing yourself from getting blocked by TripAdvisor , \n",
    "# we will send requests using a random range of time\n",
    "from random import randint \n",
    "from time import sleep"
   ]
  },
  {
   "cell_type": "code",
   "execution_count": null,
   "id": "4e061a62",
   "metadata": {},
   "outputs": [],
   "source": [
    "# help you mix bs4 and xpath \n",
    "from lxml import html"
   ]
  },
  {
   "cell_type": "code",
   "execution_count": null,
   "id": "74c87a79",
   "metadata": {},
   "outputs": [],
   "source": [
    "import numpy\n",
    "import pandas as pd "
   ]
  },
  {
   "cell_type": "markdown",
   "id": "ecb50ad8",
   "metadata": {},
   "source": [
    "# 2. prepare bs4  "
   ]
  },
  {
   "cell_type": "code",
   "execution_count": null,
   "id": "538c9b97",
   "metadata": {},
   "outputs": [],
   "source": [
    "url = 'https://www.tripadvisor.com/Hotels-g293730-Morocco-Hotels.html'\n",
    "HEADERS = {'User-Agent':'Mozilla/5.0 (Windows NT 10.0; WOW64) AppleWebKit/537.36 (KHTML, like Gecko) Chrome/112.0.0.0 Safari/537.36'}"
   ]
  },
  {
   "cell_type": "markdown",
   "id": "eea4d071",
   "metadata": {},
   "source": [
    "# 3. request the home of trip advisor "
   ]
  },
  {
   "cell_type": "code",
   "execution_count": null,
   "id": "220ecf88",
   "metadata": {},
   "outputs": [],
   "source": [
    "html_doc = requests.get(url,headers=HEADERS)\n",
    "print(html_doc.status_code)"
   ]
  },
  {
   "cell_type": "markdown",
   "id": "ad7fb023",
   "metadata": {},
   "source": [
    "# 4. parse the html content"
   ]
  },
  {
   "cell_type": "code",
   "execution_count": null,
   "id": "d24b6595",
   "metadata": {},
   "outputs": [],
   "source": [
    "bsobj = soup(html_doc.content,'lxml')"
   ]
  },
  {
   "cell_type": "markdown",
   "id": "fe7fb00c",
   "metadata": {},
   "source": [
    "# 5. get hotels names , links , ratings , reviews "
   ]
  },
  {
   "cell_type": "code",
   "execution_count": null,
   "id": "a0b4a101",
   "metadata": {},
   "outputs": [],
   "source": [
    "hotel = {'names':[],'ratings':[],'links':[],'NbrReviews':[]}"
   ]
  },
  {
   "cell_type": "code",
   "execution_count": null,
   "id": "6b86aa16",
   "metadata": {},
   "outputs": [],
   "source": [
    "for name in bsobj.findAll('div',{'class':'listing-title'}):\n",
    "    link = 'https://tripadvisor.in'+name.a['href']\n",
    "    # Search where is the 1st location of Reviews in links a.find('Reviews')\n",
    "    posReviews = link.find('Reviews')\n",
    "    link = link[:posReviews+7] + '-or{}' + link[posReviews+7:]\n",
    "    \n",
    "    hotel['names'].append(name.text.strip())\n",
    "    hotel['links'].append(link)"
   ]
  },
  {
   "cell_type": "code",
   "execution_count": null,
   "id": "2ba7d32a",
   "metadata": {},
   "outputs": [],
   "source": [
    "for rating in bsobj.findAll('a',{'class':'ui_bubble_rating'}):\n",
    "    hotel['ratings'].append(rating['alt'].strip())"
   ]
  },
  {
   "cell_type": "code",
   "execution_count": null,
   "id": "31fa500c",
   "metadata": {},
   "outputs": [],
   "source": [
    "for Nbrreview in bsobj.findAll('a',{'class':'review_count'}):\n",
    "    hotel['NbrReviews'].append(Nbrreview.text.strip())"
   ]
  },
  {
   "cell_type": "code",
   "execution_count": null,
   "id": "f085403a",
   "metadata": {},
   "outputs": [],
   "source": [
    "# for p in bsobj.findAll('div',{'class':'price-wrap  '}):\n",
    "#     hotel['price'].append(p.text)"
   ]
  },
  {
   "cell_type": "markdown",
   "id": "6bb4cb92",
   "metadata": {},
   "source": [
    "# 6. get the reviews and user info of each hotel"
   ]
  },
  {
   "cell_type": "code",
   "execution_count": null,
   "id": "9487a9d4",
   "metadata": {},
   "outputs": [],
   "source": [
    "hotelReviews = {'hotelName':[],'hotelRating':[],'hotelLink':[],'nbrReviews':[],'hotelReview':[],'reviewTitle':[] , 'dateReview':[], 'userName':[] ,'userAddress':[],'contribution':[],'noteUseful':[]}"
   ]
  },
  {
   "cell_type": "code",
   "execution_count": null,
   "id": "814c1116",
   "metadata": {},
   "outputs": [],
   "source": [
    "# Each page contains 5 reviews => link change dynamically,\n",
    "# according to the nbr of reviews viewed .\n",
    "\n",
    "# we will grap only 5 page of reviews for each hotel\n",
    "pageNbrReviews = [nbr for nbr in range(5,26,5)]"
   ]
  },
  {
   "cell_type": "code",
   "execution_count": null,
   "id": "6ca5cf82",
   "metadata": {},
   "outputs": [],
   "source": [
    "userName = None\n",
    "address = None\n",
    "comment = None\n",
    "dateComment = None\n",
    "titleComment = None\n",
    "dayOfStay = None\n",
    "contribution = None\n",
    "noteUseful = None\n"
   ]
  },
  {
   "cell_type": "code",
   "execution_count": null,
   "id": "1add3b16",
   "metadata": {},
   "outputs": [],
   "source": [
    "print('********')\n",
    "NbrHotels = len(hotel['names'])\n",
    "for i in range(0,NbrHotels):\n",
    "    link = hotel['links'][i]\n",
    "    for page in pageNbrReviews :\n",
    "        url = link.format(page)\n",
    "        html_doc = requests.get(url,headers=HEADERS)\n",
    "        print(html_doc.status_code)\n",
    "        sleep(randint(1,8))\n",
    "        \n",
    "        #parse using xpath \n",
    "        doc = html.fromstring(html_doc.content)\n",
    "        \n",
    "        # select all div elements with data-test-target='HR_CC_CARD' = Reviews box\n",
    "        box_review = doc.xpath(\"//div[@data-test-target='HR_CC_CARD']\")\n",
    "        \n",
    "        for div in box_review:\n",
    "            \n",
    "            comment = \"\".join(div.xpath(\".//div[2]/div[3]/div[1]/div/span/span/text()\"))\n",
    "            userName = \"\".join(div.xpath('.//div[1]/div[1]/div[2]/span/a/text()'))\n",
    "            dateComment= \"\".join(div.xpath(\".//div[1]/div[1]/div[2]/span/text()\"))\n",
    "            titleComment = \"\".join(div.xpath(\".//div[@data-test-target='review-title']/a/span/span/text()\"))\n",
    "            userInfo = div.xpath(\".//div[1]/div[1]/div[3]/span\")\n",
    "            dayOfStay = \"\".join(div.xpath(\".//div[2]/div[3]/div[2]/span/text()\"))\n",
    "            \n",
    "            for info in userInfo:\n",
    "                info = info.xpath(\".//span/text()\")\n",
    "                if(len(info)==1): address = info[0]\n",
    "                else :\n",
    "                    info = \"\".join(info)\n",
    "                    if 'contribution' in info : contribution = info\n",
    "                    elif 'helpful' in info: noteUseful = info\n",
    "            \n",
    "            hotelReviews['hotelName'].append(hotel['names'][i])\n",
    "            hotelReviews['hotelLink'].append(hotel['links'][i])\n",
    "            hotelReviews['hotelRating'].append(hotel['ratings'][i])\n",
    "            hotelReviews['nbrReviews'].append(hotel['NbrReviews'][i])\n",
    "            hotelReviews['reviewTitle'].append(titleComment)\n",
    "            hotelReviews['hotelReview'].append(comment)\n",
    "            hotelReviews['dateReview'].append(dateComment)\n",
    "            hotelReviews['contribution'].append(contribution)\n",
    "            hotelReviews['noteUseful'].append(noteUseful)\n",
    "            hotelReviews['userName'].append(userName)\n",
    "            hotelReviews['userAddress'].append(address)\n",
    "            \n",
    "            print(hotelReviews)\n",
    "            \n",
    "            "
   ]
  },
  {
   "cell_type": "markdown",
   "id": "237f768f",
   "metadata": {},
   "source": [
    "# 7. convert the dict to DataFrame then save it  "
   ]
  },
  {
   "cell_type": "code",
   "execution_count": null,
   "id": "1a3790ae",
   "metadata": {},
   "outputs": [],
   "source": [
    "df = pd.DataFrame.from_dict(hotelReviews)\n",
    "df"
   ]
  },
  {
   "cell_type": "code",
   "execution_count": null,
   "id": "1ff56903",
   "metadata": {},
   "outputs": [],
   "source": [
    "df.to_csv('tripAdvisorData.csv')"
   ]
  }
 ],
 "metadata": {
  "kernelspec": {
   "display_name": "Python 3 (ipykernel)",
   "language": "python",
   "name": "python3"
  },
  "language_info": {
   "codemirror_mode": {
    "name": "ipython",
    "version": 3
   },
   "file_extension": ".py",
   "mimetype": "text/x-python",
   "name": "python",
   "nbconvert_exporter": "python",
   "pygments_lexer": "ipython3",
   "version": "3.9.12"
  }
 },
 "nbformat": 4,
 "nbformat_minor": 5
}
